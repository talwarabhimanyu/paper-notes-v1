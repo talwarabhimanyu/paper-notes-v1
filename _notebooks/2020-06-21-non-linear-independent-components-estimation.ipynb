{
  "nbformat": 4,
  "nbformat_minor": 0,
  "metadata": {
    "colab": {
      "name": "2020-06-21-non-linear-independent-components-estimation.ipynb",
      "provenance": [],
      "collapsed_sections": []
    },
    "kernelspec": {
      "name": "python3",
      "display_name": "Python 3"
    }
  },
  "cells": [
    {
      "cell_type": "markdown",
      "metadata": {
        "id": "ngR5HBrqDcsk",
        "colab_type": "text"
      },
      "source": [
        "# \"NICE: Non-linear Independent Components Estimation\"\n",
        "> L. Dinh, D. Krueger, and Y. Bengio\n",
        "\n",
        "- toc:true\n",
        "- branch: master\n",
        "- badges: false\n",
        "- comments: true\n",
        "- author: \"[Arxiv](https://arxiv.org/abs/1410.8516)\"\n",
        "- categories: [representation-learning]"
      ]
    },
    {
      "cell_type": "markdown",
      "metadata": {
        "id": "j9vl-PWADxFK",
        "colab_type": "text"
      },
      "source": [
        "## Key Ideas\n",
        "We want to learn probability distributions which generate real world data. But sometimes, instead of dealing with raw data, dealing with some representation of it makes it easier to learn its generative distribution. E.g. this representation may get rid of all the noise, and retain enough information to be able to explain the variance in this real world data.\n",
        "\n",
        "We want to find a \"good representation\" ($h \\in \\mathbb{R}^m$) of data ($x \\in \\mathbb{R}^n$) by applying transformations ($h = f(x)$). The authors define a good representation as \"one in which the distribution of the data is easy to model\" and in this paper they propose a transformation such that the distribution of transformed data completely factorizes (i.e. $p_H(h) = \\prod_dp_{H_d}(h_d)$)."
      ]
    },
    {
      "cell_type": "markdown",
      "metadata": {
        "id": "UUDds5mSyszd",
        "colab_type": "text"
      },
      "source": [
        "## Design of a Good Transformation\n",
        "\n",
        "After applying the transformation $f$ (assume it is invertible, and assume $m=n$), the distribution of the original random variable can be written as (see Appendix 1 for proof):\n",
        "$$\n",
        "\\begin{align}\n",
        "p_X(x) &= p_H\\left(f(x)\\right)det(J) \n",
        "\\end{align}\n",
        "$$\n",
        "\n",
        "Now say we observe $N$ samples of $X$, then we estimate the transformation $f$ (a parametrized neural network) by maximizing the log-likelihood of these samples (while assuming some prior distribution $p_H$). The log-likelihood can be written as:\n",
        "\n",
        "$$\n",
        "\\log{p_X(x)} = \\sum_{d=1}^D\\log{p_{H_d}(f_d(x))} + \\log{\\lvert det\\left(\\frac{\\partial f(x)}{\\partial x}\\right)\\rvert}\n",
        "$$\n",
        "\n",
        "The authors observe that a good transformation should be able to capture a complex distribution and at the same time is should be easy to compute:\n",
        "* Its inverse (so that we can easily sample from $p_X$ in two steps: (1) $h \\sim p_H$, (2) $x = f^{-1}(h)$).\n",
        "* The determinant of its Jacobian matrix (because that appears in the log-likelihood expression we are trying to maximize)."
      ]
    },
    {
      "cell_type": "markdown",
      "metadata": {
        "id": "DXXBEappXGNl",
        "colab_type": "text"
      },
      "source": [
        "## Architecture of the Neural Network used for the Transformation\n",
        "Let's first see what makes for an easily computable Jacobian determinant. Now the determinant of a triangular matrix is just the product of its diagonal elements {% fn 3 %}. With this in mind, the authors introduce a family of invertible functions with triangular Jacobians, called \"Couplings\".\n",
        "\n",
        "### General Coupling Layer\n",
        "If $x \\in \\mathbb{R}^D$, then we define $y \\in \\mathbb{R}^D$ such that the first $d$ components of $y$ are the same as that of $x$, and the other $D-d$ components are determined by a function $g: \\mathbb{R}^{D-d} \\times m\\left(\\mathbb{R}^{d}\\right) \\to \\mathbb{R}^{D-d}$ called the \"Coupling Law\":\n",
        "\n",
        "$$\n",
        "\\begin{align}\n",
        "y_{1\\cdots d} &= x_{1\\cdots d} \\\\\n",
        "y_{d+1\\cdots D} &= g\\left(x_{1\\cdots d}, m\\left(x_{d+1\\cdots D}\\right)\\right)\n",
        "\\end{align}\n",
        "$$\n",
        "\n",
        "We see (from the way we defined this transformation above) that the Jacobian for this transformation of $x$ into $y$ is triangular:\n",
        "\n",
        "$$\n",
        "\\begin{align}\n",
        "\\frac{\\partial y}{\\partial x} &= \\begin{bmatrix}\n",
        "I_d & 0 \\\\\n",
        "\\frac{\\partial y_{d+1\\cdots D}}{\\partial x_{1\\cdots d}} & \\frac{\\partial y_{d+1\\cdots D}}{\\partial x_{d+1\\cdots D}}\n",
        "\\end{bmatrix}\n",
        "\\end{align}\n",
        "$$"
      ]
    },
    {
      "cell_type": "markdown",
      "metadata": {
        "id": "PVTw94DZDzkj",
        "colab_type": "text"
      },
      "source": [
        "## Appendix 1\n",
        "`A proof for Equation (1) from the paper.`\n",
        "\n",
        "Here is a proof for 2D based on notes from Prof. Ash {% fn 1 %} and Prof. Dobelman {% fn 2 %}:\n",
        "\n",
        "Let $f: \\mathbb{R}^2 \\to \\mathbb{R}^2$ be the transformation. Let $h = (h_1, h_2)$ and $x = (x_1, x_2)$ be realizations of $H$ and $X$ respectively, such that we have $f(h) = x$. Say $x_1$ changes by $dx_1$, then the change in $h_1$ and $h_2$ is $(\\partial h_1/\\partial x_1)dx_1$ and $(\\partial h_2/\\partial x_1)dx_1$ respectively. Similarly, if $x_2$ changes by $dx_2$, then the change in $h_1$ and $h_2$ is $(\\partial h_1/\\partial x_2)dx_2$ and $(\\partial h_2/\\partial x_2)dx_2$ respectively. Now consider the small rectangle with lengths $dx_1$ and $dx_2$ in the $x_1-x_2$ plane. This corresponds to a parallelogram in the $h_1-h_2$ plane with sides:\n",
        "\n",
        "$$\n",
        "\\begin{align}\n",
        "\\vec{A} &= \\begin{bmatrix}\\frac{\\partial h_1}{\\partial x_1}dx_1 \\\\ \\frac{\\partial h_2}{\\partial x_1}dx_1\\end{bmatrix} \\\\\n",
        "\\vec{B} &= \\begin{bmatrix}\\frac{\\partial h_1}{\\partial x_2}dx_2 \\\\ \\frac{\\partial h_2}{\\partial x_2}dx_2\\end{bmatrix}\n",
        "\\end{align}\n",
        "$$\n",
        "The area of this parallelogram is given by the magnitude of the cross product $\\vec{A} \\times \\vec{B}$, and that equals $det(J)dx_1dx_2$, where $J$ is the Jacobian matrix, written as:\n",
        "$$\n",
        "\\begin{align}\n",
        "J &= \\begin{bmatrix}\n",
        "\\frac{\\partial h_1}{\\partial x_1} & \\frac{\\partial h_1}{\\partial x_2} \\\\\n",
        "\\frac{\\partial h_2}{\\partial x_1} & \\frac{\\partial h_2}{\\partial x_2}\n",
        "\\end{bmatrix}\n",
        "\\end{align}\n",
        "$$\n",
        "Now the probability mass of the rectangle in $x_1-x_2$ plane is the same as that of the parallelogram in the $h_1-h_2$ plane. This is because the authors assume the transformation $f$ is invertible. So we can write:\n",
        "$$\n",
        "\\begin{align}\n",
        "p_H(h)det(J)dx_1dx_2 & = p_X(x)dx_1dx_2 \\\\\n",
        "\\implies p_X(x) &= p_H(f(x))det(J) \n",
        "\\end{align}\n",
        "$$"
      ]
    },
    {
      "cell_type": "markdown",
      "metadata": {
        "id": "NstMWKSoD6T6",
        "colab_type": "text"
      },
      "source": [
        "## References\n",
        "{{'[Transformation of Random Variables](https://faculty.math.illinois.edu/~r-ash/Stat/StatLec1-5.pdf)' | fndetail: 1}}\n",
        "{{'[Jacobians](http://www.stat.rice.edu/~dobelman/notes_papers/math/Jacobian.pdf)' | fndetail: 2}}\n",
        "{{'[StackExchange - Determinant of a Triangular Matrix](https://math.stackexchange.com/questions/2013124/determinant-of-a-triangular-matrix)' | fndetail: 3}}"
      ]
    },
    {
      "cell_type": "code",
      "metadata": {
        "id": "xYC-UP_r_0yA",
        "colab_type": "code",
        "colab": {}
      },
      "source": [
        ""
      ],
      "execution_count": null,
      "outputs": []
    }
  ]
}